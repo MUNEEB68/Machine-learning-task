{
  "cells": [
    {
      "cell_type": "markdown",
      "metadata": {
        "id": "view-in-github",
        "colab_type": "text"
      },
      "source": [
        "<a href=\"https://colab.research.google.com/github/MUNEEB68/Machine-learning-task/blob/main/CIFAR10.ipynb\" target=\"_parent\"><img src=\"https://colab.research.google.com/assets/colab-badge.svg\" alt=\"Open In Colab\"/></a>"
      ]
    },
    {
      "cell_type": "code",
      "execution_count": null,
      "metadata": {
        "colab": {
          "background_save": true
        },
        "id": "5v5FqSrOi0X8"
      },
      "outputs": [],
      "source": [
        "import numpy as np\n",
        "import pandas as pd\n",
        "from sklearn.metrics import confusion_matrix\n",
        "import matplotlib.pyplot as plt\n",
        "import torch\n",
        "import torch.nn as nn\n",
        "import torch.nn.functional as F\n",
        "from torch.utils.data import DataLoader\n",
        "from torchvision import datasets, transforms\n",
        "from torchvision.utils import make_grid\n",
        "import random\n",
        "\n",
        "# Ensure inline plotting\n",
        "%matplotlib inline\n",
        "\n",
        "# Transformations for the data\n",
        "transform_ = transforms.ToTensor()\n",
        "\n",
        "# Load CIFAR-10 dataset\n",
        "train_data = datasets.CIFAR10(root='./data', train=True, download=True, transform=transform_)\n",
        "test_data = datasets.CIFAR10(root='./data', train=False, download=True, transform=transform_)\n",
        "\n",
        "# DataLoader for training and testing data for efficient memory management\n",
        "train_loader = DataLoader(train_data, batch_size=64, shuffle=True)\n",
        "test_loader = DataLoader(test_data, batch_size=64, shuffle=False)\n",
        "print(\"Hi\")\n",
        "# Class for the model\n",
        "class ConvolutionalNetwork(nn.Module):\n",
        "    def __init__(self):\n",
        "        super(ConvolutionalNetwork, self).__init__()\n",
        "        self.conv1 = nn.Conv2d(3, 32, kernel_size=3, stride=1, padding=1)\n",
        "        self.conv2 = nn.Conv2d(32, 64, kernel_size=3, stride=1, padding=1)\n",
        "        self.conv3 = nn.Conv2d(64, 32, kernel_size=3, stride=1, padding=1)\n",
        "        self.conv4 = nn.Conv2d(32, 16, kernel_size=3, stride=1, padding=1)\n",
        "        self.fc1 = nn.Linear(16 * 2 * 2, 128)\n",
        "        self.fc2 = nn.Linear(128, 64)\n",
        "        self.fc3 = nn.Linear(64, 16)\n",
        "        self.fc4 = nn.Linear(16, 10)\n",
        "\n",
        "    def forward(self, X):\n",
        "        X = F.relu(self.conv1(X))\n",
        "        X = F.max_pool2d(X, 2, 2)\n",
        "        X = F.relu(self.conv2(X))\n",
        "        X = F.max_pool2d(X, 2, 2)\n",
        "        X = F.relu(self.conv3(X))\n",
        "        X = F.max_pool2d(X, 2, 2)\n",
        "        X = F.relu(self.conv4(X))\n",
        "        X = F.max_pool2d(X, 2, 2)\n",
        "        X = X.view(-1, 16 * 2 * 2)\n",
        "        X = F.relu(self.fc1(X))\n",
        "        X = F.relu(self.fc2(X))\n",
        "        X = F.relu(self.fc3(X))\n",
        "        X = self.fc4(X)\n",
        "        return F.log_softmax(X, dim=1)\n",
        "\n",
        "torch.manual_seed(500)\n",
        "model = ConvolutionalNetwork()\n",
        "\n",
        "# Optimizer and loss function\n",
        "optimizer = torch.optim.Adam(model.parameters(), lr=0.001)\n",
        "criterion = nn.CrossEntropyLoss()\n",
        "\n",
        "# Training\n",
        "epochs = 50\n",
        "losses = []\n",
        "correct = []\n",
        "\n",
        "for epoch in range(epochs):\n",
        "    total_correct = 0\n",
        "    total_images = 0\n",
        "    for batch_idx, (X_train, y_train) in enumerate(train_loader):\n",
        "        batch_idx += 1\n",
        "\n",
        "        # Forward pass\n",
        "        y_pred = model(X_train)\n",
        "        loss = criterion(y_pred, y_train)\n",
        "\n",
        "        # Backward pass\n",
        "        optimizer.zero_grad()\n",
        "        loss.backward()\n",
        "        optimizer.step()\n",
        "\n",
        "        # Calculate accuracy\n",
        "        predicted = torch.max(y_pred.data, 1)[1]  # Get the index of the max log-probability\n",
        "        batch_correct = (predicted == y_train).sum().item()  # Count correct predictions in the batch\n",
        "        total_correct += batch_correct  # Accumulate total correct predictions\n",
        "        total_images += y_train.size(0)  # Accumulate total number of images\n",
        "\n",
        "        if batch_idx % 100 == 0:\n",
        "            print(f'Epoch: {epoch}  Batch: {batch_idx}  Loss: {loss.item()} ')\n",
        "\n",
        "    losses.append(loss.item())\n",
        "    correct.append(total_correct)\n",
        "    print(f'for Epoch: {epoch}  Accuracy: {total_correct}/{total_images}')\n",
        "\n",
        "print(correct)\n",
        "\n",
        "\n"
      ]
    },
    {
      "cell_type": "code",
      "execution_count": null,
      "metadata": {
        "colab": {
          "background_save": true
        },
        "id": "7MLqE050L2RP"
      },
      "outputs": [],
      "source": [
        "# Evaluation on the test data\n",
        "model.eval()  # Set the model to evaluation mode\n",
        "\n",
        "test_correct = 0\n",
        "test_total = 0\n",
        "batch_loss = 0\n",
        "\n",
        "with torch.no_grad():  # No need to compute gradients during evaluation\n",
        "    for batch_idx, (X_test, y_test) in enumerate(test_loader):\n",
        "        y_pred = model(X_test)\n",
        "        loss = criterion(y_pred, y_test)  # Compute the loss for the batch\n",
        "        batch_loss += loss.item()  # Accumulate the loss\n",
        "\n",
        "        predicted = torch.max(y_pred.data, 1)[1]  # Get the index of the max log-probability\n",
        "        test_correct += (predicted == y_test).sum().item()  # Count correct predictions\n",
        "        test_total += y_test.size(0)  # Accumulate total number of images\n",
        "\n",
        "        if (batch_idx + 1) % 10 == 0:\n",
        "            print(f'Batch {batch_idx + 1}: Loss = {batch_loss / 100:.4f}')\n",
        "            batch_loss = 0  # Reset the batch loss\n",
        "\n",
        "test_accuracy = test_correct / test_total * 100\n",
        "print(f'Test Accuracy: {test_correct}/{test_total} ({test_accuracy:.2f}%)')\n",
        "\n"
      ]
    },
    {
      "cell_type": "code",
      "execution_count": null,
      "metadata": {
        "colab": {
          "base_uri": "https://localhost:8080/",
          "height": 211
        },
        "id": "bM-aCKvfMxLB",
        "outputId": "adc0b95d-8726-4150-cf26-ba847933c1c5"
      },
      "outputs": [
        {
          "ename": "NameError",
          "evalue": "name 'test_loader' is not defined",
          "output_type": "error",
          "traceback": [
            "\u001b[0;31m---------------------------------------------------------------------------\u001b[0m",
            "\u001b[0;31mNameError\u001b[0m                                 Traceback (most recent call last)",
            "\u001b[0;32m<ipython-input-1-175a3283fe31>\u001b[0m in \u001b[0;36m<cell line: 12>\u001b[0;34m()\u001b[0m\n\u001b[1;32m     10\u001b[0m \u001b[0;34m\u001b[0m\u001b[0m\n\u001b[1;32m     11\u001b[0m \u001b[0;31m# Get a random image from the test dataset\u001b[0m\u001b[0;34m\u001b[0m\u001b[0;34m\u001b[0m\u001b[0m\n\u001b[0;32m---> 12\u001b[0;31m \u001b[0mdataiter\u001b[0m \u001b[0;34m=\u001b[0m \u001b[0miter\u001b[0m\u001b[0;34m(\u001b[0m\u001b[0mtest_loader\u001b[0m\u001b[0;34m)\u001b[0m\u001b[0;34m\u001b[0m\u001b[0;34m\u001b[0m\u001b[0m\n\u001b[0m\u001b[1;32m     13\u001b[0m \u001b[0mimages\u001b[0m\u001b[0;34m,\u001b[0m \u001b[0mlabels\u001b[0m \u001b[0;34m=\u001b[0m \u001b[0mnext\u001b[0m\u001b[0;34m(\u001b[0m\u001b[0mdataiter\u001b[0m\u001b[0;34m)\u001b[0m  \u001b[0;31m# Correct usage of next()\u001b[0m\u001b[0;34m\u001b[0m\u001b[0;34m\u001b[0m\u001b[0m\n\u001b[1;32m     14\u001b[0m \u001b[0mindex\u001b[0m \u001b[0;34m=\u001b[0m \u001b[0mrandom\u001b[0m\u001b[0;34m.\u001b[0m\u001b[0mrandint\u001b[0m\u001b[0;34m(\u001b[0m\u001b[0;36m0\u001b[0m\u001b[0;34m,\u001b[0m \u001b[0mlen\u001b[0m\u001b[0;34m(\u001b[0m\u001b[0mimages\u001b[0m\u001b[0;34m)\u001b[0m \u001b[0;34m-\u001b[0m \u001b[0;36m1\u001b[0m\u001b[0;34m)\u001b[0m\u001b[0;34m\u001b[0m\u001b[0;34m\u001b[0m\u001b[0m\n",
            "\u001b[0;31mNameError\u001b[0m: name 'test_loader' is not defined"
          ]
        }
      ],
      "source": [
        "# Class names for CIFAR-10 dataset\n",
        "classes = ['plane', 'car', 'bird', 'cat', 'deer', 'dog', 'frog', 'horse', 'ship', 'truck']\n",
        "\n",
        "# Function to show an image\n",
        "def imshow(img):\n",
        "    img = img / 2 + 0.5  # unnormalize\n",
        "    npimg = img.numpy()\n",
        "    plt.imshow(np.transpose(npimg, (1, 2, 0)))\n",
        "    plt.show()\n",
        "\n",
        "# Get a random image from the test dataset\n",
        "dataiter = iter(test_loader)\n",
        "images, labels = next(dataiter)  # Correct usage of next()\n",
        "index = random.randint(0, len(images) - 1)\n",
        "image, label = images[index], labels[index]\n",
        "\n",
        "# Show the image\n",
        "imshow(image)\n",
        "\n",
        "# Predict the label using the model\n",
        "model.eval()\n",
        "with torch.no_grad():\n",
        "    output = model(image.unsqueeze(0))  # add batch dimension\n",
        "    _, predicted = torch.max(output, 1)\n",
        "\n",
        "# Print the true and predicted labels\n",
        "print(f'True label: {classes[label]}')\n",
        "print(f'Predicted label: {classes[predicted.item()]}')\n"
      ]
    },
    {
      "cell_type": "code",
      "execution_count": null,
      "metadata": {
        "colab": {
          "base_uri": "https://localhost:8080/"
        },
        "id": "mdbf-G4vON8K",
        "outputId": "46f93432-1802-45e2-b7fa-7b0502bc1913"
      },
      "outputs": [
        {
          "name": "stdout",
          "output_type": "stream",
          "text": [
            "Model saved as cifar10_model.pth\n"
          ]
        }
      ],
      "source": [
        "# Save the model\n",
        "torch.save(model.state_dict(), 'cifar10_model.pth')\n",
        "print(\"Model saved as cifar10_model.pth\")\n"
      ]
    }
  ],
  "metadata": {
    "colab": {
      "provenance": [],
      "authorship_tag": "ABX9TyMoPr3nQA1lQZu2ETcPke+s",
      "include_colab_link": true
    },
    "kernelspec": {
      "display_name": "Python 3",
      "name": "python3"
    },
    "language_info": {
      "name": "python"
    }
  },
  "nbformat": 4,
  "nbformat_minor": 0
}